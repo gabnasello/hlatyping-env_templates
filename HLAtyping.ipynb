{
 "cells": [
  {
   "cell_type": "markdown",
   "id": "943d9245-459e-4126-8056-d2127fafa67c",
   "metadata": {},
   "source": [
    "**arcasHLA typing**\n",
    "---\n",
    "\n",
    "From [arcasHLA](https://github.com/RabadanLab/arcasHLA/tree/master)."
   ]
  },
  {
   "cell_type": "code",
   "execution_count": 4,
   "id": "18d80733-ef06-4109-bb4b-39ac3caa1d2a",
   "metadata": {},
   "outputs": [],
   "source": [
    "from arcas_hla_runner import ArcasHLARunner"
   ]
  },
  {
   "cell_type": "code",
   "execution_count": 5,
   "id": "0beade86-0043-4636-810a-c87e32f16191",
   "metadata": {},
   "outputs": [
    {
     "name": "stdout",
     "output_type": "stream",
     "text": [
      "Current reference database version: # file: release_version.txt\n",
      "# date: 2025-01-15\n",
      "# version: IPD-IMGT/HLA 3.59.0\n",
      "# origin: https://github.com/ANHIG/IMGTHLA/release_version.txt\n",
      "# repository: https://raw.githubusercontent.com/ANHIG/IMGTHLA/Latest/release_version.txt\n",
      "# author: IPD Team (ipdsubs@anthonynolan.org)\n"
     ]
    }
   ],
   "source": [
    "runner = ArcasHLARunner()\n",
    "runner.set_arcas_hla_path(\"/home/jovyan/arcasHLA/arcasHLA\")"
   ]
  },
  {
   "cell_type": "code",
   "execution_count": 24,
   "id": "ddbfb26a-4083-4796-938b-8364e57121f3",
   "metadata": {},
   "outputs": [
    {
     "name": "stdout",
     "output_type": "stream",
     "text": [
      "\n",
      "--------------------------------------------------------------------------------\n",
      "[log] Date: 2025-01-24\n",
      "[log] Sample: GC130443\n",
      "[log] Input file: samples/GC130443/GC130443.bam\n",
      "[log] Read type: single-end\n",
      "--------------------------------------------------------------------------------\n",
      "[extract] Extracting reads from samples/GC130443/GC130443.bam\n",
      "[extract] Extracting chromosome 6: \n",
      "\n",
      "\tsamtools view -H -@8 samples/GC130443/GC130443.bam -o /tmp/arcas_2af4c260-f74c-47e1-b06b-3722b7b64034/GC130443.hla.sam\n",
      "\n",
      "[extract] Extracting chromosome 6: \n",
      "\n",
      "\tsamtools view -@8 -F 4 samples/GC130443/GC130443.bam 6 >> /tmp/arcas_2af4c260-f74c-47e1-b06b-3722b7b64034/GC130443.hla.sam\n",
      "\n",
      "[extract] Sorting bam: \n",
      "\n",
      "\tsamtools sort -n -@8 /tmp/arcas_2af4c260-f74c-47e1-b06b-3722b7b64034/GC130443.hla.sam -o /tmp/arcas_2af4c260-f74c-47e1-b06b-3722b7b64034/GC130443.hla.sorted.bam\n",
      "\n",
      "\t[bam_sort_core] merging from 0 files and 8 in-memory blocks...\n",
      "\t\n",
      "[extract] Converting bam to fastq: \n",
      "\n",
      "\tbedtools bamtofastq -i /tmp/arcas_2af4c260-f74c-47e1-b06b-3722b7b64034/GC130443.hla.sorted.bam -fq samples/GC130443/GC130443.extracted.fq\n",
      "\n",
      "--------------------------------------------------------------------------------\n",
      "\n",
      "\n"
     ]
    }
   ],
   "source": [
    "# Step 1: Extract reads\n",
    "runner.extract_reads(\"samples/GC130443/GC130443.bam\", \"samples/GC130443/\", threads=8, verbose=True, single=True)"
   ]
  },
  {
   "cell_type": "code",
   "execution_count": 37,
   "id": "e04efa4d-ff00-4579-9085-b92e6b2bcc80",
   "metadata": {},
   "outputs": [
    {
     "name": "stdout",
     "output_type": "stream",
     "text": [
      "\n",
      "--------------------------------------------------------------------------------\n",
      "[log] Date: 2025-01-24\n",
      "[log] Sample: GC130443\n",
      "[log] Input file(s): fastq/GC130443/GC130443.221208_Donor_variability_in_cartilage_microtissues.230203.HiSeq4000.FCA.lane7.gcap_22_10.I1.fastq.gz\n",
      "[log] Reference: f80df4e0e3bf7dbb3c229e12e0dc2f63dbe7292f\n",
      "--------------------------------------------------------------------------------\n",
      "[alignment] Analyzing read length\n",
      "[alignment] Pseudoaligning with Kallisto: \n",
      "\n",
      "\tkallisto pseudo -i /home/jovyan/arcasHLA/scripts/../dat/ref/hla.idx -t 8 -o /tmp/arcas_a9c1a4ac-0ed6-4c09-8132-628dcb534b1f/ --single -l 200 -s 20 fastq/GC130443/GC130443.221208_Donor_variability_in_cartilage_microtissues.230203.HiSeq4000.FCA.lane7.gcap_22_10.I1.fastq.gz\n",
      "\n",
      "\t\n",
      "\t[quant] fragment length distribution is truncated gaussian with mean = 200, sd = 20\n",
      "\t[index] k-mer length: 31\n",
      "\t[index] number of targets: 21,476\n",
      "\t[index] number of k-mers: 402,141\n",
      "\t[index] number of equivalence classes: 44,815\n",
      "\t[quant] running in single-end mode\n",
      "\t[quant] will process file 1: fastq/GC130443/GC130443.221208_Donor_variability_in_cartilage_microtissues.230203.HiSeq4000.FCA.lane7.gcap_22_10.I1.fastq.gz\n",
      "\t[quant] finding pseudoalignments for the reads ... done\n",
      "\t[quant] processed 7,878,348 reads, 0 reads pseudoaligned\n",
      "\t[~warn] no reads pseudoaligned.\n",
      "\t\n",
      "\t\n",
      "[alignment] Processing pseudoalignment\n",
      "[alignment] Processed 7878348 reads, 0 pseudoaligned to HLA reference\n",
      "[alignment] 0 reads mapped to a single HLA gene\n",
      "[alignment] Observed HLA genes:\n",
      "\t\tgene          abundance    read count    classes\n",
      "--------------------------------------------------------------------------------\n",
      "[genotype] Genotyping parameters:\n",
      "\t\tpopulation: prior\n",
      "\t\tminimum count: 75\n",
      "\t\tmax iterations: 1000\n",
      "\t\ttolerance: 1e-06\n",
      "\t\tdrop iterations: 4\n",
      "\t\tdrop threshold: 0.1\n",
      "\t\tzygosity threshold: 0.15\n",
      "--------------------------------------------------------------------------------\n",
      "[genotype] Genotyping HLA-A\n",
      "[genotype] Not enough reads aligned to HLA-A to genotype.\n",
      "--------------------------------------------------------------------------------\n",
      "[genotype] Genotyping HLA-B\n",
      "[genotype] Not enough reads aligned to HLA-B to genotype.\n",
      "--------------------------------------------------------------------------------\n",
      "[genotype] Genotyping HLA-C\n",
      "[genotype] Not enough reads aligned to HLA-C to genotype.\n",
      "--------------------------------------------------------------------------------\n",
      "[genotype] Genotyping HLA-DPB1\n",
      "[genotype] Not enough reads aligned to HLA-DPB1 to genotype.\n",
      "--------------------------------------------------------------------------------\n",
      "[genotype] Genotyping HLA-DQA1\n",
      "[genotype] Not enough reads aligned to HLA-DQA1 to genotype.\n",
      "--------------------------------------------------------------------------------\n",
      "[genotype] Genotyping HLA-DQB1\n",
      "[genotype] Not enough reads aligned to HLA-DQB1 to genotype.\n",
      "--------------------------------------------------------------------------------\n",
      "[genotype] Genotyping HLA-DRB1\n",
      "[genotype] Not enough reads aligned to HLA-DRB1 to genotype.\n",
      "--------------------------------------------------------------------------------\n",
      "\n",
      "\n"
     ]
    }
   ],
   "source": [
    "# Step 2: Genotype\n",
    "fq_file = \"fastq/GC130443/GC130443.221208_Donor_variability_in_cartilage_microtissues.230203.HiSeq4000.FCA.lane7.gcap_22_10.I1.fastq.gz\"\n",
    "output_dir = \"fastq/GC130443/GC130443.221208_Donor_variability_output_genotype\"\n",
    "\n",
    "runner.genotype(fq_file, output_dir,\n",
    "                genes=\"A,B,C,DPB1,DQB1,DQA1,DRB1\", \n",
    "                threads=8, verbose=True, single=True)"
   ]
  },
  {
   "cell_type": "code",
   "execution_count": 41,
   "id": "396a4e5c-dfa5-428a-a768-b9c6043e0a74",
   "metadata": {},
   "outputs": [
    {
     "name": "stdout",
     "output_type": "stream",
     "text": [
      "\n",
      "--------------------------------------------------------------------------------\n",
      "[log] Date: 2025-01-24\n",
      "[log] Sample: GC130443\n",
      "[log] Input file(s): fastq/GC130443/GC130443.221208_Donor_variability_in_cartilage_microtissues.230203.HiSeq4000.FCA.lane7.gcap_22_10.I1.fastq.gz\n",
      "[log] Reference: f80df4e0e3bf7dbb3c229e12e0dc2f63dbe7292f\n",
      "--------------------------------------------------------------------------------\n",
      "[alignment] Analyzing read length\n",
      "[alignment] Pseudoaligning with Kallisto: \n",
      "\n",
      "\tkallisto pseudo -i /home/jovyan/arcasHLA/scripts/../dat/ref/hla_partial.idx -t 8 -o /tmp/arcas_731f5e09-eaa8-49f6-b690-b65efa752a87/ --single -l 200 -s 20 fastq/GC130443/GC130443.221208_Donor_variability_in_cartilage_microtissues.230203.HiSeq4000.FCA.lane7.gcap_22_10.I1.fastq.gz\n",
      "\n",
      "\t\n",
      "\t[quant] fragment length distribution is truncated gaussian with mean = 200, sd = 20\n",
      "\t[index] k-mer length: 31\n",
      "\t[index] number of targets: 177,638\n",
      "\t[index] number of k-mers: 555,347\n",
      "\t[index] number of equivalence classes: 224,080\n",
      "\t[quant] running in single-end mode\n",
      "\t[quant] will process file 1: fastq/GC130443/GC130443.221208_Donor_variability_in_cartilage_microtissues.230203.HiSeq4000.FCA.lane7.gcap_22_10.I1.fastq.gz\n",
      "\t[quant] finding pseudoalignments for the reads ... done\n",
      "\t[quant] processed 7,878,348 reads, 0 reads pseudoaligned\n",
      "\t[~warn] no reads pseudoaligned.\n",
      "\t\n",
      "\t\n",
      "[alignment] Processing pseudoalignment\n",
      "[alignment] Processed 7878348 reads, 0 pseudoaligned to HLA reference\n",
      "[alignment] 0 reads mapped to a single HLA gene\n",
      "--------------------------------------------------------------------------------\n",
      "\n",
      "\n"
     ]
    }
   ],
   "source": [
    "# Step 3: Partial Genotyping\n",
    "fq_file = \"fastq/GC130443/GC130443.221208_Donor_variability_in_cartilage_microtissues.230203.HiSeq4000.FCA.lane7.gcap_22_10.I1.fastq.gz\"\n",
    "genotype_file = \"fastq/GC130443/GC130443.221208_Donor_variability_output_genotype/GC130443.genotype.json\"\n",
    "output_dir = \"fastq/GC130443/GC130443.221208_Donor_variability_output_partial\"\n",
    "\n",
    "runner.partial_genotype(fq_file, \n",
    "                        \"A,B,C,DPB1,DQB1,DQA1,DRB1\",\n",
    "                        genotype_file,\n",
    "                        output_dir,\n",
    "                        threads=8, verbose=True, single=True)"
   ]
  },
  {
   "cell_type": "code",
   "execution_count": 41,
   "id": "e6ac2bf5-a23a-44c3-83b6-ad1c164218be",
   "metadata": {},
   "outputs": [
    {
     "name": "stdout",
     "output_type": "stream",
     "text": [
      "\n",
      "--------------------------------------------------------------------------------\n",
      "[log] Date: 2025-01-24\n",
      "[log] Sample: GC130443\n",
      "[log] Input file(s): fastq/GC130443/GC130443.221208_Donor_variability_in_cartilage_microtissues.230203.HiSeq4000.FCA.lane7.gcap_22_10.I1.fastq.gz\n",
      "[log] Reference: f80df4e0e3bf7dbb3c229e12e0dc2f63dbe7292f\n",
      "--------------------------------------------------------------------------------\n",
      "[alignment] Analyzing read length\n",
      "[alignment] Pseudoaligning with Kallisto: \n",
      "\n",
      "\tkallisto pseudo -i /home/jovyan/arcasHLA/scripts/../dat/ref/hla_partial.idx -t 8 -o /tmp/arcas_731f5e09-eaa8-49f6-b690-b65efa752a87/ --single -l 200 -s 20 fastq/GC130443/GC130443.221208_Donor_variability_in_cartilage_microtissues.230203.HiSeq4000.FCA.lane7.gcap_22_10.I1.fastq.gz\n",
      "\n",
      "\t\n",
      "\t[quant] fragment length distribution is truncated gaussian with mean = 200, sd = 20\n",
      "\t[index] k-mer length: 31\n",
      "\t[index] number of targets: 177,638\n",
      "\t[index] number of k-mers: 555,347\n",
      "\t[index] number of equivalence classes: 224,080\n",
      "\t[quant] running in single-end mode\n",
      "\t[quant] will process file 1: fastq/GC130443/GC130443.221208_Donor_variability_in_cartilage_microtissues.230203.HiSeq4000.FCA.lane7.gcap_22_10.I1.fastq.gz\n",
      "\t[quant] finding pseudoalignments for the reads ... done\n",
      "\t[quant] processed 7,878,348 reads, 0 reads pseudoaligned\n",
      "\t[~warn] no reads pseudoaligned.\n",
      "\t\n",
      "\t\n",
      "[alignment] Processing pseudoalignment\n",
      "[alignment] Processed 7878348 reads, 0 pseudoaligned to HLA reference\n",
      "[alignment] 0 reads mapped to a single HLA gene\n",
      "--------------------------------------------------------------------------------\n",
      "\n",
      "\n"
     ]
    }
   ],
   "source": [
    "# Step 3: Partial Genotyping\n",
    "fq_file = \"fastq/GC130443/GC130443.221208_Donor_variability_in_cartilage_microtissues.230203.HiSeq4000.FCA.lane7.gcap_22_10.I1.fastq.gz\"\n",
    "genotype_file = \"fastq/GC130443/GC130443.221208_Donor_variability_output_genotype/GC130443.genotype.json\"\n",
    "output_dir = \"fastq/GC130443/GC130443.221208_Donor_variability_output_partial\"\n",
    "\n",
    "runner.partial_genotype(fq_file, \n",
    "                        \"A,B,C,DPB1,DQB1,DQA1,DRB1\",\n",
    "                        genotype_file,\n",
    "                        output_dir,\n",
    "                        threads=8, verbose=True, single=True)"
   ]
  },
  {
   "cell_type": "code",
   "execution_count": null,
   "id": "2eff7837-cebb-402c-afd6-3ea1458b73c9",
   "metadata": {},
   "outputs": [],
   "source": []
  }
 ],
 "metadata": {
  "kernelspec": {
   "display_name": "Python (arcasHLA)",
   "language": "python",
   "name": "arcashla"
  },
  "language_info": {
   "codemirror_mode": {
    "name": "ipython",
    "version": 3
   },
   "file_extension": ".py",
   "mimetype": "text/x-python",
   "name": "python",
   "nbconvert_exporter": "python",
   "pygments_lexer": "ipython3",
   "version": "3.10.0"
  }
 },
 "nbformat": 4,
 "nbformat_minor": 5
}
