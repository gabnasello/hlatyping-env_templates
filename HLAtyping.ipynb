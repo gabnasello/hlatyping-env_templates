{
 "cells": [
  {
   "cell_type": "markdown",
   "id": "943d9245-459e-4126-8056-d2127fafa67c",
   "metadata": {},
   "source": [
    "**arcasHLA typing**\n",
    "---\n",
    "\n",
    "From [arcasHLA](https://github.com/RabadanLab/arcasHLA/tree/master)."
   ]
  },
  {
   "cell_type": "code",
   "execution_count": null,
   "id": "18d80733-ef06-4109-bb4b-39ac3caa1d2a",
   "metadata": {},
   "outputs": [],
   "source": [
    "from arcas_hla_runner import ArcasHLARunner\n",
    "from pathlib import Path"
   ]
  },
  {
   "cell_type": "code",
   "execution_count": null,
   "id": "0beade86-0043-4636-810a-c87e32f16191",
   "metadata": {},
   "outputs": [],
   "source": [
    "runner = ArcasHLARunner()\n",
    "runner.set_arcas_hla_path(\"/home/jovyan/arcasHLA/arcasHLA\")"
   ]
  },
  {
   "cell_type": "code",
   "execution_count": null,
   "id": "17ac74a9-dfc0-4a7b-8a05-6c7d8ab4b926",
   "metadata": {
    "editable": true,
    "slideshow": {
     "slide_type": ""
    },
    "tags": [
     "parameters"
    ]
   },
   "outputs": [],
   "source": [
    "main_dir = '/home/jovyan/researcher_home/isaak_RNAseq/GC130445'\n",
    "main_dir_path = Path(main_dir)\n",
    "\n",
    "genes = \"all\" # A, B, C, DMA, DMB, DOA, DOB, DPA1, DPB1, DQA1, DQB1, DRA, DRB1, DRB3, DRB5, E, F, G, H, J, K, L\n",
    "\n",
    "\n",
    "bam_file_path = main_dir_path / (main_dir_path.stem + '.bam')\n",
    "extract_reads_dir_path = main_dir_path / 'extract_reads'\n",
    "extract_reads_dir_path.mkdir(parents=True, exist_ok=True)\n",
    "\n",
    "fq_file_path = extract_reads_dir_path / (bam_file_path.stem + '.extracted.fq.gz')\n",
    "genotype_dir_path = main_dir_path / 'output_genotype'\n",
    "genotype_dir_path.mkdir(parents=True, exist_ok=True)\n",
    "\n",
    "genotype_file_path = genotype_dir_path / (bam_file_path.stem + '.genotype.json')\n",
    "partial_dir_path = main_dir_path / 'output_partial'\n",
    "partial_dir_path.mkdir(parents=True, exist_ok=True)\n"
   ]
  },
  {
   "cell_type": "code",
   "execution_count": null,
   "id": "ddbfb26a-4083-4796-938b-8364e57121f3",
   "metadata": {},
   "outputs": [],
   "source": [
    "# Step 1: Extract reads\n",
    "runner.extract_reads(bam_file_path, extract_reads_dir_path, threads=8, verbose=True, single=True)"
   ]
  },
  {
   "cell_type": "markdown",
   "id": "91ae26cf-3950-49a3-81ef-19088f5814e5",
   "metadata": {},
   "source": [
    "# FASTQ analysis script\n",
    "\n",
    "The Python script below analyzes a FASTQ file to provide key statistics about the sequencing reads and their quality scores. Specifically, it performs the following tasks:\n",
    "\n",
    "1. **Read Length Analysis**:\n",
    "   - Counts the total number of reads.\n",
    "   - Calculates the average read length and its standard deviation.\n",
    "\n",
    "2. **Phred Quality Score Analysis**:\n",
    "   - Extracts Phred quality scores for all bases across all reads.\n",
    "   - Computes the overall average quality score and its standard deviation."
   ]
  },
  {
   "cell_type": "code",
   "execution_count": null,
   "id": "2b3b386d-775e-46a0-8ffc-e2782465c20a",
   "metadata": {},
   "outputs": [],
   "source": [
    "from Bio import SeqIO\n",
    "import numpy as np\n",
    "import gzip\n",
    "\n",
    "# Initialize variables\n",
    "read_lengths = []\n",
    "quality_scores = []\n",
    "\n",
    "# Parse the compressed FASTQ file\n",
    "with gzip.open(fq_file_path, \"rt\") as handle:\n",
    "    for record in SeqIO.parse(handle, \"fastq\"):\n",
    "        read_lengths.append(len(record.seq))\n",
    "        quality_scores.extend(record.letter_annotations[\"phred_quality\"])\n",
    "        \n",
    "# Calculate read length statistics\n",
    "num_reads = len(read_lengths)\n",
    "average_length = np.mean(read_lengths)\n",
    "std_dev_length = np.std(read_lengths)\n",
    "\n",
    "# Calculate quality score statistics\n",
    "average_quality = np.mean(quality_scores)\n",
    "std_dev_quality = np.std(quality_scores)\n",
    "\n",
    "# Print results\n",
    "print(f\"Number of reads: {num_reads}\")\n",
    "print(f\"Average read length: {average_length:.2f}\")\n",
    "print(f\"Standard deviation of read lengths: {std_dev_length:.2f}\")\n",
    "print(f\"Average Phred quality score: {average_quality:.2f}\")\n",
    "print(f\"Standard deviation of quality scores: {std_dev_quality:.2f}\")"
   ]
  },
  {
   "cell_type": "markdown",
   "id": "06e615ee-cb69-47c9-b7a4-f18f955f617c",
   "metadata": {},
   "source": [
    "# Step 2: Genotype"
   ]
  },
  {
   "cell_type": "code",
   "execution_count": null,
   "id": "f70a3406-4035-41d4-aafa-19a66508750a",
   "metadata": {},
   "outputs": [],
   "source": [
    "runner.genotype(\n",
    "                fq_file_path,\n",
    "                genotype_dir_path,\n",
    "                genes=genes,\n",
    "                # population=\"prior\",\n",
    "                min_count=1,\n",
    "                tolerance=1e-7,\n",
    "                # max_iterations=500,\n",
    "                drop_iterations=4,\n",
    "                threads=8,\n",
    "                verbose=True,\n",
    "                single=True,\n",
    "                avg_fragment_length=50,\n",
    "                std_fragment_length=1\n",
    "            )\n"
   ]
  },
  {
   "cell_type": "code",
   "execution_count": null,
   "id": "396a4e5c-dfa5-428a-a768-b9c6043e0a74",
   "metadata": {},
   "outputs": [],
   "source": [
    "# Step 3: Partial Genotyping\n",
    "runner.partial_genotype(fq_file_path, \n",
    "                        genotype_file_path,\n",
    "                        partial_dir_path,\n",
    "                        genes=genes,\n",
    "                        threads=8,\n",
    "                        verbose=True,\n",
    "                        single=True\n",
    "                    )"
   ]
  }
 ],
 "metadata": {
  "kernelspec": {
   "display_name": "Python (arcasHLA)",
   "language": "python",
   "name": "arcashla"
  },
  "language_info": {
   "codemirror_mode": {
    "name": "ipython",
    "version": 3
   },
   "file_extension": ".py",
   "mimetype": "text/x-python",
   "name": "python",
   "nbconvert_exporter": "python",
   "pygments_lexer": "ipython3",
   "version": "3.10.0"
  }
 },
 "nbformat": 4,
 "nbformat_minor": 5
}
